{
 "cells": [
  {
   "cell_type": "markdown",
   "metadata": {},
   "source": [
    "**1.0 PROGRAMS DEMONSTRATING INPUT & OUTPUT**"
   ]
  },
  {
   "cell_type": "markdown",
   "metadata": {},
   "source": [
    "**(1) Write a Program which takes two numbers and outputs the sum.**"
   ]
  },
  {
   "cell_type": "code",
   "execution_count": 3,
   "metadata": {},
   "outputs": [
    {
     "name": "stdout",
     "output_type": "stream",
     "text": [
      "16\n"
     ]
    }
   ],
   "source": [
    "a = 6\n",
    "b = 10\n",
    "total = a+b  # Note a,b and total are the three variables in this program\n",
    "print(total) # Also note sum means the numbers are added"
   ]
  },
  {
   "cell_type": "markdown",
   "metadata": {},
   "source": [
    "**(2) Write a Program which calculates the circumference of a circle. (Remember Circumference = 2 x PI x Radius)**"
   ]
  },
  {
   "cell_type": "code",
   "execution_count": 4,
   "metadata": {},
   "outputs": [
    {
     "name": "stdout",
     "output_type": "stream",
     "text": [
      "Circumference is  75.408\n"
     ]
    }
   ],
   "source": [
    "PI = 3.142\n",
    "Radius = 12\n",
    "Circumference = 2*PI*Radius\n",
    "print(\"Circumference is \", Circumference)"
   ]
  },
  {
   "cell_type": "markdown",
   "metadata": {},
   "source": [
    "**(3) Write a Program which calculates the area of a rectangle. The length and width of the rectangle are supplied by the user.**"
   ]
  },
  {
   "cell_type": "code",
   "execution_count": 1,
   "metadata": {},
   "outputs": [
    {
     "name": "stdin",
     "output_type": "stream",
     "text": [
      "Please enter the length of the rectangle in metres 3\n"
     ]
    },
    {
     "name": "stdout",
     "output_type": "stream",
     "text": [
      "length, length\n"
     ]
    },
    {
     "name": "stdin",
     "output_type": "stream",
     "text": [
      "Please enter the width of the rectangle in metres 4\n"
     ]
    },
    {
     "name": "stdout",
     "output_type": "stream",
     "text": [
      "width  4\n",
      "Area of the rectangle is  12  metre squared\n"
     ]
    }
   ],
   "source": [
    "length = int(input(\"Please enter the length of the rectangle in metres\"))\n",
    "print(\"length, length\")\n",
    "width = int(input(\"Please enter the width of the rectangle in metres\"))\n",
    "print(\"width \",width)\n",
    "Area = length*width\n",
    "print(\"Area of the rectangle is \", Area, \" metre squared\")"
   ]
  },
  {
   "cell_type": "markdown",
   "metadata": {},
   "source": [
    "**2.0 PROGRAMS DEMONSTRATING SELECTION VIA IF STATEMENTS**"
   ]
  },
  {
   "cell_type": "markdown",
   "metadata": {},
   "source": [
    "**(4) Write a Program which asks the user to input a month and if the user enters December, the output is <br/>\n",
    "\" Merry Christmas \" but otherwise the output is \" Not Xmas Yet \"**"
   ]
  },
  {
   "cell_type": "code",
   "execution_count": 4,
   "metadata": {},
   "outputs": [
    {
     "name": "stdin",
     "output_type": "stream",
     "text": [
      " Enter a month December\n"
     ]
    },
    {
     "name": "stdout",
     "output_type": "stream",
     "text": [
      "Month  December\n",
      "Merry Christmas\n"
     ]
    }
   ],
   "source": [
    "Month = input(\" Enter a month\")\n",
    "print(\"Month \", Month)\n",
    "if Month == \"December\":      # This statement is asking is Month equal to \"December\"\n",
    "    print(\"Merry Christmas\") # The IF statement is known as the selection statement\n",
    "else:\n",
    "    print(\"Not Xmas Yet\")"
   ]
  },
  {
   "cell_type": "markdown",
   "metadata": {},
   "source": [
    "**(5) Write a Program which asks the user for the room temperature. <br/>\n",
    "If the temperature is over or equal to 24 degrees Centigrade then output \"the room is too hot\"<br/>\n",
    "If the temperature is between 19 and 24 degrees Centigrade then output \"the temperature is just right\"<br/>\n",
    "or if the temperature is less than or equal to 19 degrees Centigrade then output \"the room is too cold\"\n",
    "else output \"invalid entry\" <br/>**"
   ]
  },
  {
   "cell_type": "code",
   "execution_count": 6,
   "metadata": {},
   "outputs": [
    {
     "name": "stdin",
     "output_type": "stream",
     "text": [
      "Enter the temperature of the room  24\n"
     ]
    },
    {
     "name": "stdout",
     "output_type": "stream",
     "text": [
      "temperature  24\n",
      "the room is too hot\n"
     ]
    }
   ],
   "source": [
    "temperature = int(input(\"Enter the temperature of the room \"))\n",
    "print(\"temperature \",temperature)\n",
    "if temperature >=24:\n",
    "    print(\"the room is too hot\")\n",
    "elif temperature > 19 and temperature < 24:\n",
    "    print(\"the temperature is just right \")\n",
    "elif temperature <=19:\n",
    "    print(\"the room is too cold\")\n",
    "else:\n",
    "    print(\"Invalid Entry\")"
   ]
  },
  {
   "cell_type": "markdown",
   "metadata": {},
   "source": [
    "**3.0 PROGRAMS USING FOR LOOPS**"
   ]
  },
  {
   "cell_type": "markdown",
   "metadata": {},
   "source": [
    "**(6) Write a Program which uses a Count-Countrolled loop (that is a FOR loop) to output the 1st 5 cubed numbers <br/>\n",
    "Output<br/>\n",
    "1<br/>\n",
    "8<br/>\n",
    "27<br/>\n",
    "64<br/>\n",
    "125<br/>**"
   ]
  },
  {
   "cell_type": "code",
   "execution_count": null,
   "metadata": {},
   "outputs": [],
   "source": [
    "for j in range(1,6):\n",
    "    k = j**3\n",
    "    print(k)"
   ]
  },
  {
   "cell_type": "markdown",
   "metadata": {},
   "source": [
    "**(7) Write a Program which uses a Count-Controlled loop (that is a FOR loop) to output the 1st 4 square numbers<br/>\n",
    "Output<br>\n",
    "1<br/>\n",
    "4<br/>\n",
    "9<br/>\n",
    "16<br/>**\n",
    "\n"
   ]
  },
  {
   "cell_type": "code",
   "execution_count": null,
   "metadata": {},
   "outputs": [],
   "source": [
    "for j in range(1,5):\n",
    "    k=j**2\n",
    "    print(k)"
   ]
  },
  {
   "cell_type": "markdown",
   "metadata": {},
   "source": [
    "**(8) Write a Program which outputs the numbers between 1 and 20 which are divisible by 4. <br/>\n",
    "Output<br/>\n",
    "4<br/>\n",
    "8<br/>\n",
    "12<br/>\n",
    "16<br>\n",
    "20<br>**\n",
    "\n"
   ]
  },
  {
   "cell_type": "code",
   "execution_count": 7,
   "metadata": {},
   "outputs": [
    {
     "name": "stdout",
     "output_type": "stream",
     "text": [
      "4\n",
      "8\n",
      "12\n",
      "16\n",
      "20\n"
     ]
    }
   ],
   "source": [
    "for j in range(1,21):\n",
    "    if j%4==0:\n",
    "        print(j)\n",
    "        \n",
    "        \n",
    "        "
   ]
  }
 ],
 "metadata": {
  "kernelspec": {
   "display_name": "Python 3",
   "language": "python",
   "name": "python3"
  },
  "language_info": {
   "codemirror_mode": {
    "name": "ipython",
    "version": 3
   },
   "file_extension": ".py",
   "mimetype": "text/x-python",
   "name": "python",
   "nbconvert_exporter": "python",
   "pygments_lexer": "ipython3",
   "version": "3.7.4"
  }
 },
 "nbformat": 4,
 "nbformat_minor": 4
}
